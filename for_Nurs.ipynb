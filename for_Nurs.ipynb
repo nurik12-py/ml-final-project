{
 "cells": [
  {
   "cell_type": "markdown",
   "id": "cf2c9bea-288d-494b-be28-0d4f5f8b3fe5",
   "metadata": {},
   "source": [
    "https://blog.socratesk.com/blog/2018/01/29/expose-ML-model-as-REST-API - ссылка на туториал с flask и svm"
   ]
  },
  {
   "cell_type": "code",
   "execution_count": 1,
   "id": "f22bde2b-62dd-4075-9fed-98348fc79a5b",
   "metadata": {},
   "outputs": [],
   "source": [
    "#auxullary function, mb also in app.py\n",
    "import nltk\n",
    "from nltk.corpus import stopwords\n",
    "from nltk.stem import WordNetLemmatizer, PorterStemmer\n",
    "import re\n",
    "from pymystem3 import Mystem\n",
    "from string import punctuation\n",
    "from nltk.stem.snowball import SnowballStemmer \n",
    "#Create lemmatizer and stopwords list\n",
    "mystem = Mystem() \n",
    "russian_stopwords = stopwords.words(\"russian\")\n",
    "\n",
    "\n",
    "stemmer = SnowballStemmer(\"russian\") \n",
    "#Preprocess function\n",
    "def preprocess_text(text):\n",
    "    text = (lambda f: re.sub(r'\\d|\\W', ' ', text))(text)\n",
    "    tokens = mystem.lemmatize(text.lower())\n",
    "    #tokens = text.lower().split(' ')\n",
    "    #tokens = [stemmer.stem(word) for word in text.lower().split(' ')]\n",
    "    tokens = [token for token in tokens if token not in russian_stopwords\\\n",
    "              and token != \" \" \\\n",
    "              and token.strip() not in punctuation\\\n",
    "              and len(token) > 3]\n",
    "    text = \" \".join(tokens)\n",
    "    \n",
    "    return text"
   ]
  },
  {
   "cell_type": "code",
   "execution_count": 2,
   "id": "2fd0cefd-8ba5-404a-9c36-11776b3fead4",
   "metadata": {},
   "outputs": [],
   "source": [
    "#вариант с SVM, без нейронки, в app.py загружаешь готовый файл с моделькой\n",
    "\n",
    "import pickle\n",
    "\n",
    "global svmIrisModel\n",
    "\n",
    "svmIrisFile = open('SVMModel80.pckl', 'rb')\n",
    "svmIrisModel = pickle.load(svmIrisFile)\n",
    "svmIrisFile.close()"
   ]
  },
  {
   "cell_type": "code",
   "execution_count": 3,
   "id": "5d7b5f74-b7d1-4de3-ae68-f773e53cd15d",
   "metadata": {},
   "outputs": [
    {
     "data": {
      "text/plain": [
       "array(['bad'], dtype=object)"
      ]
     },
     "execution_count": 3,
     "metadata": {},
     "output_type": "execute_result"
    }
   ],
   "source": [
    "#пример как будет работать\n",
    "text = '''Всё что было интересно в первых фильмах о Пауке в данной трилогии - выпилили. Нет-нет! Блюдо всё то же, только подано оно под каким-то пресным соусом. Создатели те же, но больше нет интересных диалогов, нет колоритных злодеев и нет комичных ситуаций, в которые попадал бы главный герой, а сам сценарий деградировал до уровня 'и так сойдет'.\n",
    "\n",
    "Суетливая болтовня Питера Паркера в первых фильмах забавляла, потому что это был подросток, который вел себя соответствующе - как ребенок. Но в данном творении эта особенность уже порядком раздражала. Главный герой не меняется от слова 'совсем', хотя пережил уже больше чем любой другой человек за всю жизнь. А еще актер изрядно возмужал, от чего всё это бросается в глаза еще сильнее.'''\n",
    "class_prediced = svmIrisModel.predict([text])\n",
    "class_prediced"
   ]
  },
  {
   "cell_type": "code",
   "execution_count": null,
   "id": "7d3ab0a6-de20-469e-b022-dc73fae5061a",
   "metadata": {},
   "outputs": [],
   "source": []
  }
 ],
 "metadata": {
  "kernelspec": {
   "display_name": "Python 3",
   "language": "python",
   "name": "python3"
  },
  "language_info": {
   "codemirror_mode": {
    "name": "ipython",
    "version": 3
   },
   "file_extension": ".py",
   "mimetype": "text/x-python",
   "name": "python",
   "nbconvert_exporter": "python",
   "pygments_lexer": "ipython3",
   "version": "3.9.2"
  }
 },
 "nbformat": 4,
 "nbformat_minor": 5
}
